{
 "cells": [
  {
   "cell_type": "code",
   "execution_count": 9,
   "metadata": {
    "ExecuteTime": {
     "end_time": "2020-11-30T09:11:57.690375Z",
     "start_time": "2020-11-30T09:11:57.280358Z"
    }
   },
   "outputs": [],
   "source": [
    "import pandas as pd\n",
    "import zipfile"
   ]
  },
  {
   "cell_type": "code",
   "execution_count": 2,
   "metadata": {
    "ExecuteTime": {
     "end_time": "2020-11-30T09:16:31.574218Z",
     "start_time": "2020-11-30T09:16:30.012862Z"
    }
   },
   "outputs": [
    {
     "name": "stdout",
     "output_type": "stream",
     "text": [
      "Warning: Your Kaggle API key is readable by other users on this system! To fix this, you can run 'chmod 600 /home/oscar/.kaggle/kaggle.json'\n",
      "Downloading indian-liver-patient-records.zip to /home/oscar/Documentos/DEUSTO/M4. - Proyecto final/proyecto/App-main/data\n",
      "  0%|                                               | 0.00/7.68k [00:00<?, ?B/s]\n",
      "100%|██████████████████████████████████████| 7.68k/7.68k [00:00<00:00, 6.31MB/s]\n"
     ]
    }
   ],
   "source": [
    "# Download Dataset\n",
    "! kaggle datasets download -d uciml/indian-liver-patient-records"
   ]
  },
  {
   "cell_type": "code",
   "execution_count": 14,
   "metadata": {
    "ExecuteTime": {
     "start_time": "2020-11-30T09:18:10.500Z"
    }
   },
   "outputs": [],
   "source": [
    "# Move zip file\n",
    "!mv indian-liver-patient-records.zip input/liver.zip\n",
    "\n",
    "# Unzip Dataset\n",
    "with zipfile.ZipFile(\"input/liver.zip\",\"r\") as zip_ref:\n",
    "    zip_ref.extractall(\"input\")"
   ]
  },
  {
   "cell_type": "code",
   "execution_count": 16,
   "metadata": {},
   "outputs": [
    {
     "name": "stdout",
     "output_type": "stream",
     "text": [
      "Warning: Your Kaggle API key is readable by other users on this system! To fix this, you can run 'chmod 600 /home/oscar/.kaggle/kaggle.json'\n",
      "Downloading heart-disease-uci.zip to /home/oscar/Documentos/DEUSTO/M4. - Proyecto final/proyecto/App-main/data\n",
      "  0%|                                               | 0.00/3.40k [00:00<?, ?B/s]\n",
      "100%|██████████████████████████████████████| 3.40k/3.40k [00:00<00:00, 2.20MB/s]\n"
     ]
    }
   ],
   "source": [
    "! kaggle datasets download -d ronitf/heart-disease-uci"
   ]
  },
  {
   "cell_type": "code",
   "execution_count": 17,
   "metadata": {},
   "outputs": [],
   "source": [
    "# Move zip file\n",
    "!mv heart-disease-uci.zip input/heart.zip\n",
    "\n",
    "# Unzip Dataset\n",
    "with zipfile.ZipFile(\"input/heart.zip\",\"r\") as zip_ref:\n",
    "    zip_ref.extractall(\"input\")"
   ]
  },
  {
   "cell_type": "code",
   "execution_count": 18,
   "metadata": {},
   "outputs": [
    {
     "name": "stdout",
     "output_type": "stream",
     "text": [
      "Warning: Your Kaggle API key is readable by other users on this system! To fix this, you can run 'chmod 600 /home/oscar/.kaggle/kaggle.json'\n",
      "Downloading diabetes.zip to /home/oscar/Documentos/DEUSTO/M4. - Proyecto final/proyecto/App-main/data\n",
      "  0%|                                               | 0.00/12.1k [00:00<?, ?B/s]\n",
      "100%|██████████████████████████████████████| 12.1k/12.1k [00:00<00:00, 7.97MB/s]\n"
     ]
    }
   ],
   "source": [
    "! kaggle datasets download -d johndasilva/diabetes"
   ]
  },
  {
   "cell_type": "code",
   "execution_count": 21,
   "metadata": {},
   "outputs": [],
   "source": [
    "# Move zip file\n",
    "!mv diabetes.zip input/diabetes.zip\n",
    "\n",
    "# Unzip Dataset\n",
    "with zipfile.ZipFile(\"input/diabetes.zip\",\"r\") as zip_ref:\n",
    "    zip_ref.extractall(\"input\")"
   ]
  },
  {
   "cell_type": "code",
   "execution_count": 19,
   "metadata": {},
   "outputs": [
    {
     "name": "stdout",
     "output_type": "stream",
     "text": [
      "Warning: Your Kaggle API key is readable by other users on this system! To fix this, you can run 'chmod 600 /home/oscar/.kaggle/kaggle.json'\n",
      "Downloading ckdisease.zip to /home/oscar/Documentos/DEUSTO/M4. - Proyecto final/proyecto/App-main/data\n",
      "  0%|                                               | 0.00/9.51k [00:00<?, ?B/s]\n",
      "100%|██████████████████████████████████████| 9.51k/9.51k [00:00<00:00, 6.47MB/s]\n"
     ]
    }
   ],
   "source": [
    "! kaggle datasets download -d mansoordaku/ckdisease"
   ]
  },
  {
   "cell_type": "code",
   "execution_count": 20,
   "metadata": {},
   "outputs": [],
   "source": [
    "# Move zip file\n",
    "!mv ckdisease.zip input/kidney.zip\n",
    "\n",
    "# Unzip Dataset\n",
    "with zipfile.ZipFile(\"input/kidney.zip\",\"r\") as zip_ref:\n",
    "    zip_ref.extractall(\"input\")"
   ]
  },
  {
   "cell_type": "code",
   "execution_count": 22,
   "metadata": {},
   "outputs": [
    {
     "name": "stdout",
     "output_type": "stream",
     "text": [
      "Warning: Your Kaggle API key is readable by other users on this system! To fix this, you can run 'chmod 600 /home/oscar/.kaggle/kaggle.json'\n",
      "Downloading breast-cancer.zip to /home/oscar/Documentos/DEUSTO/M4. - Proyecto final/proyecto/App-main/data\n",
      "  0%|                                               | 0.00/48.6k [00:00<?, ?B/s]\n",
      "100%|██████████████████████████████████████| 48.6k/48.6k [00:00<00:00, 2.86MB/s]\n"
     ]
    }
   ],
   "source": [
    "! kaggle datasets download -d yuqing01/breast-cancer"
   ]
  },
  {
   "cell_type": "code",
   "execution_count": 23,
   "metadata": {},
   "outputs": [],
   "source": [
    "# Move zip file\n",
    "!mv breast-cancer.zip input/cancer.zip\n",
    "\n",
    "# Unzip Dataset\n",
    "with zipfile.ZipFile(\"input/cancer.zip\",\"r\") as zip_ref:\n",
    "    zip_ref.extractall(\"input\")"
   ]
  }
 ],
 "metadata": {
  "kernelspec": {
   "display_name": "Python 3",
   "language": "python",
   "name": "python3"
  },
  "language_info": {
   "codemirror_mode": {
    "name": "ipython",
    "version": 3
   },
   "file_extension": ".py",
   "mimetype": "text/x-python",
   "name": "python",
   "nbconvert_exporter": "python",
   "pygments_lexer": "ipython3",
   "version": "3.7.6"
  },
  "latex_envs": {
   "LaTeX_envs_menu_present": true,
   "autoclose": false,
   "autocomplete": true,
   "bibliofile": "biblio.bib",
   "cite_by": "apalike",
   "current_citInitial": 1,
   "eqLabelWithNumbers": true,
   "eqNumInitial": 1,
   "hotkeys": {
    "equation": "Ctrl-E",
    "itemize": "Ctrl-I"
   },
   "labels_anchors": false,
   "latex_user_defs": false,
   "report_style_numbering": false,
   "user_envs_cfg": false
  }
 },
 "nbformat": 4,
 "nbformat_minor": 4
}
